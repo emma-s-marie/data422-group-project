{
 "cells": [
  {
   "cell_type": "code",
   "execution_count": null,
   "id": "dd955559",
   "metadata": {},
   "outputs": [],
   "source": [
    "# Send an HTTP GET request to the specified URL\n",
    "resp = HTTP.request(\"GET\", \"https://static.dwcdn.net/data/cSFED.csv?v=1696373100000\")\n",
    "# println(String(resp.body))\n",
    "\n",
    "\n",
    "# Convert the response body (which is in binary format) to a string\n",
    "data = String(resp.body)\n",
    "\n",
    "\n",
    "# Write the data to a CSV file\n",
    "CSV.write(\"output.csv\", CSV.File(IOBuffer(data)))\n"
   ]
  }
 ],
 "metadata": {
  "kernelspec": {
   "display_name": "Julia 1.9.2",
   "language": "julia",
   "name": "julia-1.9"
  },
  "language_info": {
   "file_extension": ".jl",
   "mimetype": "application/julia",
   "name": "julia",
   "version": "1.9.2"
  }
 },
 "nbformat": 4,
 "nbformat_minor": 5
}
