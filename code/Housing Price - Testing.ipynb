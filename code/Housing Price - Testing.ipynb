{
 "cells": [
  {
   "cell_type": "code",
   "execution_count": 1,
   "id": "1737287a",
   "metadata": {},
   "outputs": [],
   "source": [
    "using Pkg"
   ]
  },
  {
   "cell_type": "code",
   "execution_count": 2,
   "id": "51f42de0",
   "metadata": {},
   "outputs": [
    {
     "name": "stderr",
     "output_type": "stream",
     "text": [
      "\u001b[32m\u001b[1m   Resolving\u001b[22m\u001b[39m package versions...\n",
      "\u001b[32m\u001b[1m  No Changes\u001b[22m\u001b[39m to `C:\\Users\\Sarah Haras\\.julia\\environments\\v1.9\\Project.toml`\n",
      "\u001b[32m\u001b[1m  No Changes\u001b[22m\u001b[39m to `C:\\Users\\Sarah Haras\\.julia\\environments\\v1.9\\Manifest.toml`\n"
     ]
    }
   ],
   "source": [
    "Pkg.add(\"HTTP\")"
   ]
  },
  {
   "cell_type": "code",
   "execution_count": 3,
   "id": "01ae8f62",
   "metadata": {},
   "outputs": [
    {
     "name": "stderr",
     "output_type": "stream",
     "text": [
      "\u001b[32m\u001b[1m   Resolving\u001b[22m\u001b[39m package versions...\n",
      "\u001b[32m\u001b[1m  No Changes\u001b[22m\u001b[39m to `C:\\Users\\Sarah Haras\\.julia\\environments\\v1.9\\Project.toml`\n",
      "\u001b[32m\u001b[1m  No Changes\u001b[22m\u001b[39m to `C:\\Users\\Sarah Haras\\.julia\\environments\\v1.9\\Manifest.toml`\n"
     ]
    }
   ],
   "source": [
    "Pkg.add(\"CSV\")"
   ]
  },
  {
   "cell_type": "code",
   "execution_count": 4,
   "id": "fb34833e",
   "metadata": {},
   "outputs": [],
   "source": [
    "using HTTP,CSV"
   ]
  },
  {
   "cell_type": "code",
   "execution_count": 6,
   "id": "8795b52c",
   "metadata": {},
   "outputs": [
    {
     "data": {
      "text/plain": [
       "\"output.csv\""
      ]
     },
     "execution_count": 6,
     "metadata": {},
     "output_type": "execute_result"
    }
   ],
   "source": [
    "# Send an HTTP GET request to the specified URL\n",
    "resp = HTTP.request(\"GET\", \"https://static.dwcdn.net/data/cSFED.csv?v=1696373100000\")\n",
    "# println(String(resp.body))\n",
    "\n",
    "\n",
    "# Convert the response body (which is in binary format) to a string\n",
    "data = String(resp.body)\n",
    "\n",
    "\n",
    "# Write the data to a CSV file\n",
    "CSV.write(\"output.csv\", CSV.File(IOBuffer(data)))"
   ]
  }
 ],
 "metadata": {
  "kernelspec": {
   "display_name": "Julia 1.9.2",
   "language": "julia",
   "name": "julia-1.9"
  },
  "language_info": {
   "file_extension": ".jl",
   "mimetype": "application/julia",
   "name": "julia",
   "version": "1.9.2"
  }
 },
 "nbformat": 4,
 "nbformat_minor": 5
}
